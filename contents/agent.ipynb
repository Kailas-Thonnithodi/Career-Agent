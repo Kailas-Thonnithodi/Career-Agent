{
 "cells": [
  {
   "cell_type": "markdown",
   "id": "2dd3df8b",
   "metadata": {},
   "source": [
    "# Initial Setup"
   ]
  },
  {
   "cell_type": "markdown",
   "id": "0f56c965",
   "metadata": {},
   "source": [
    "## Libraries"
   ]
  },
  {
   "cell_type": "code",
   "execution_count": 38,
   "id": "22343a5f",
   "metadata": {},
   "outputs": [],
   "source": [
    "import json\n",
    "import os\n",
    "import requests\n",
    "from dotenv import load_dotenv\n",
    "from openai import OpenAI\n",
    "from PyPDF2 import PdfReader\n",
    "import gradio as gr\n",
    "import agent_tools"
   ]
  },
  {
   "cell_type": "markdown",
   "id": "859402fd",
   "metadata": {},
   "source": [
    "## Setups"
   ]
  },
  {
   "cell_type": "code",
   "execution_count": 33,
   "id": "15c91cc7",
   "metadata": {},
   "outputs": [],
   "source": [
    "# OpenAI Setup\n",
    "load_dotenv(override=True)\n",
    "openai = OpenAI()\n",
    "\n",
    "# Pushover Setup\n",
    "pushover_user = os.getenv(\"PUSHOVER_USER\")\n",
    "pushover_token = os.getenv(\"PUSHOVER_TOKEN\")\n",
    "pushover_url = \"https://api.pushover.net/1/messages.json\""
   ]
  },
  {
   "cell_type": "code",
   "execution_count": 34,
   "id": "1f01bd57",
   "metadata": {},
   "outputs": [],
   "source": [
    "# The function will push message in the form of a payload to the phone based on predetermined parameters. \n",
    "def push(message):\n",
    "    print(f\"Push: {message}\")\n",
    "    payload = {\"user\": pushover_user, \"token\": pushover_token, \"message\": message}\n",
    "    requests.post(pushover_url, data=payload)"
   ]
  },
  {
   "cell_type": "markdown",
   "id": "49b1a92a",
   "metadata": {},
   "source": [
    "# Development"
   ]
  },
  {
   "cell_type": "code",
   "execution_count": 35,
   "id": "233ad3df",
   "metadata": {},
   "outputs": [],
   "source": [
    "# function if whether the user would like to be in touch with us\n",
    "def record_user_details(email, name=\"name not provided.\", notes='notes not provided.'):\n",
    "    push(f\"Recording interest from name: {name}, email: {email}, notes: {notes}\")\n",
    "    return {\"recorded:\": \"ok\"}\n",
    "\n",
    "# function if the user doesn't know a question i doesn't know to answer. \n",
    "def record_unknown_question(question):\n",
    "    push(f\"Recording question: {question}\")\n",
    "    return {\"recorded\": \"ok\"}"
   ]
  },
  {
   "cell_type": "code",
   "execution_count": null,
   "id": "97f47b78",
   "metadata": {},
   "outputs": [],
   "source": [
    "def handle_tool_calls(tool_calls):\n",
    "    '''\n",
    "    A function which takes in a list of tool calls, and executes them (sends a notification to phone) based on their prompt.\n",
    "    Furthermore, each tool is already pre-mapped to a function, all this function does it search and execute like a dumb agent. \n",
    "    '''\n",
    "    results = []\n",
    "    for tool_call in tool_calls:\n",
    "        tool_name = tool_call.function.name\n",
    "        arguments = json.loads(tool_call.function.arguments)\n",
    "        # finds function in the program based on the tool name. \n",
    "        tool = globals()[tool_name]\n",
    "        result = tool(**arguments) if tool else {}\n",
    "        results.append({\"role\": \"tool\", \"content\": json.dumps(result), \"tool_call_id\": tool_call.id})\n",
    "    return results"
   ]
  },
  {
   "cell_type": "code",
   "execution_count": null,
   "id": "c181125b",
   "metadata": {},
   "outputs": [],
   "source": []
  }
 ],
 "metadata": {
  "kernelspec": {
   "display_name": "agents (3.12.11)",
   "language": "python",
   "name": "python3"
  },
  "language_info": {
   "codemirror_mode": {
    "name": "ipython",
    "version": 3
   },
   "file_extension": ".py",
   "mimetype": "text/x-python",
   "name": "python",
   "nbconvert_exporter": "python",
   "pygments_lexer": "ipython3",
   "version": "3.12.11"
  }
 },
 "nbformat": 4,
 "nbformat_minor": 5
}
