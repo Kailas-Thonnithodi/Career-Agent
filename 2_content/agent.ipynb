{
 "cells": [
  {
   "cell_type": "markdown",
   "id": "2dd3df8b",
   "metadata": {},
   "source": [
    "# Initial Setup"
   ]
  },
  {
   "cell_type": "markdown",
   "id": "0f56c965",
   "metadata": {},
   "source": [
    "## Libraries"
   ]
  },
  {
   "cell_type": "code",
   "execution_count": 1,
   "id": "22343a5f",
   "metadata": {},
   "outputs": [],
   "source": [
    "import json\n",
    "import os\n",
    "import requests\n",
    "from dotenv import load_dotenv\n",
    "from openai import OpenAI\n",
    "from PyPDF2 import PdfReader\n",
    "import gradio as gr\n",
    "import agent_tools"
   ]
  },
  {
   "cell_type": "markdown",
   "id": "859402fd",
   "metadata": {},
   "source": [
    "## Setups"
   ]
  },
  {
   "cell_type": "code",
   "execution_count": 2,
   "id": "15c91cc7",
   "metadata": {},
   "outputs": [],
   "source": [
    "# OpenAI Setup\n",
    "load_dotenv(override=True)\n",
    "openai = OpenAI()\n",
    "\n",
    "# Pushover Setup\n",
    "pushover_user = os.getenv(\"PUSHOVER_USER\")\n",
    "pushover_token = os.getenv(\"PUSHOVER_TOKEN\")\n",
    "pushover_url = \"https://api.pushover.net/1/messages.json\""
   ]
  },
  {
   "cell_type": "code",
   "execution_count": 3,
   "id": "1f01bd57",
   "metadata": {},
   "outputs": [],
   "source": [
    "# The function will push message in the form of a payload to the phone based on predetermined parameters. \n",
    "def push(message):\n",
    "    print(f\"Push: {message}\")\n",
    "    payload = {\"user\": pushover_user, \"token\": pushover_token, \"message\": message}\n",
    "    requests.post(pushover_url, data=payload)"
   ]
  },
  {
   "cell_type": "markdown",
   "id": "49b1a92a",
   "metadata": {},
   "source": [
    "# Tools and Handler"
   ]
  },
  {
   "cell_type": "markdown",
   "id": "0a6a93ed",
   "metadata": {},
   "source": [
    "## Tools"
   ]
  },
  {
   "cell_type": "code",
   "execution_count": 4,
   "id": "233ad3df",
   "metadata": {},
   "outputs": [],
   "source": [
    "# function if whether the user would like to be in touch with us\n",
    "def record_user_details(email, name=\"name not provided.\", notes='notes not provided.'):\n",
    "    push(f\"Recording interest from name: {name}, email: {email}, notes: {notes}\")\n",
    "    return {\"recorded:\": \"ok\"}\n",
    "\n",
    "# function if the user doesn't know a question i doesn't know to answer. \n",
    "def record_unknown_question(question):\n",
    "    push(f\"Recording question: {question}\")\n",
    "    return {\"recorded\": \"ok\"}"
   ]
  },
  {
   "cell_type": "markdown",
   "id": "f534a457",
   "metadata": {},
   "source": [
    "## Handler"
   ]
  },
  {
   "cell_type": "code",
   "execution_count": 5,
   "id": "97f47b78",
   "metadata": {},
   "outputs": [],
   "source": [
    "def handle_tool_calls(tool_calls):\n",
    "    '''\n",
    "    A function which takes in a list of tool calls, and executes them (sends a notification to phone) based on their prompt.\n",
    "    Furthermore, each tool is already pre-mapped to a function, all this function does it search and execute like a 'dumb' agent. \n",
    "    '''\n",
    "    results = []\n",
    "    for tool_call in tool_calls:\n",
    "        tool_name = tool_call.function.name\n",
    "        arguments = json.loads(tool_call.function.arguments)\n",
    "        # finds function in the program based on the tool name. \n",
    "        tool = globals()[tool_name]\n",
    "        result = tool(**arguments) if tool else {}\n",
    "        results.append({\"role\": \"tool\", \"content\": json.dumps(result), \"tool_call_id\": tool_call.id})\n",
    "    return results"
   ]
  },
  {
   "cell_type": "markdown",
   "id": "f0ee5969",
   "metadata": {},
   "source": [
    "# Development"
   ]
  },
  {
   "cell_type": "markdown",
   "id": "224bc714",
   "metadata": {},
   "source": [
    "## PDF-Reader"
   ]
  },
  {
   "cell_type": "code",
   "execution_count": 40,
   "id": "fc2ee565",
   "metadata": {},
   "outputs": [],
   "source": [
    "pdf_path = r\"C:\\Users\\kaith\\Documents\\Github\\Career-Agent\\3_linkedln\\LinkedlnProfilePDF.pdf\"\n",
    "website_path = r\"C:\\Users\\kaith\\Documents\\Github\\Career-Agent\\3_linkedln\\LinkedlnProfileWebsite.txt\""
   ]
  },
  {
   "cell_type": "code",
   "execution_count": null,
   "id": "8ea39a42",
   "metadata": {},
   "outputs": [
    {
     "data": {
      "text/plain": [
       "'https://www.linkedin.com/in/kailas-thonnithodi/'"
      ]
     },
     "execution_count": 42,
     "metadata": {},
     "output_type": "execute_result"
    }
   ],
   "source": [
    "reader = PdfReader(pdf_path)\n",
    "linkedin = \"\"\n",
    "website = \"\"\n",
    "\n",
    "# Reads the pdf and compiles into a singular string.\n",
    "for page in reader.pages:\n",
    "    text = page.extract_text()\n",
    "    if text:\n",
    "        linkedin += text\n",
    "\n",
    "\n",
    "# Reads the website link (i could paste the weblink here instead, however for sourcing purposes I will do it in a .txt file)\n",
    "with open(website_path, 'r') as link:\n",
    "    linkedln_link = link.readline()\n",
    "\n",
    "# This can be your own name (replace with with Kailas Thonnithodi with your own name)\n",
    "full_name = \"Kailas Thonnithodi\" "
   ]
  },
  {
   "cell_type": "markdown",
   "id": "a002aa88",
   "metadata": {},
   "source": [
    "## System Prompt"
   ]
  },
  {
   "cell_type": "code",
   "execution_count": null,
   "id": "d279b369",
   "metadata": {},
   "outputs": [],
   "source": [
    "sys_prompt = f\"You are acting as {full_name}. You are answering questions on {full_name}'s website, \\\n",
    "    particularly questions related to {full_name}'s career, background, skills and experience. \\\n",
    "    Your responsibility is to represent {full_name} for interactions on the website as faithfully as possible. \\\n",
    "    You are given a website link ({linkedln_link}) which has more information regarding my LinkedIn profile which you can use to answer questions. \\\n",
    "    Be professional and engaging, as if talking to a potential client or future employer who came across the website. \\\n",
    "    If you don't know the answer to any question, use your record_unknown_question tool to record the question that you couldn't answer, even if it's about something trivial or unrelated to career. \\\n",
    "    If the user is engaging in discussion, try to steer them towards getting in touch via email; ask for their email and record it using your record_user_details tool. \""
   ]
  },
  {
   "cell_type": "markdown",
   "id": "aeac3f8e",
   "metadata": {},
   "source": []
  }
 ],
 "metadata": {
  "kernelspec": {
   "display_name": "agents (3.12.11)",
   "language": "python",
   "name": "python3"
  },
  "language_info": {
   "codemirror_mode": {
    "name": "ipython",
    "version": 3
   },
   "file_extension": ".py",
   "mimetype": "text/x-python",
   "name": "python",
   "nbconvert_exporter": "python",
   "pygments_lexer": "ipython3",
   "version": "3.12.11"
  }
 },
 "nbformat": 4,
 "nbformat_minor": 5
}
