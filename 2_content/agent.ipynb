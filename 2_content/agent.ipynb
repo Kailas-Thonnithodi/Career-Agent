{
 "cells": [
  {
   "cell_type": "markdown",
   "id": "2dd3df8b",
   "metadata": {},
   "source": [
    "# Initial Setup"
   ]
  },
  {
   "cell_type": "markdown",
   "id": "0f56c965",
   "metadata": {},
   "source": [
    "## Libraries"
   ]
  },
  {
   "cell_type": "code",
   "execution_count": 1,
   "id": "22343a5f",
   "metadata": {},
   "outputs": [
    {
     "name": "stderr",
     "output_type": "stream",
     "text": [
      "/Users/goldenmeta/Github/Career-Agent/.venv/lib/python3.13/site-packages/tqdm/auto.py:21: TqdmWarning: IProgress not found. Please update jupyter and ipywidgets. See https://ipywidgets.readthedocs.io/en/stable/user_install.html\n",
      "  from .autonotebook import tqdm as notebook_tqdm\n"
     ]
    }
   ],
   "source": [
    "import json\n",
    "import os\n",
    "import requests\n",
    "from dotenv import load_dotenv\n",
    "from openai import OpenAI\n",
    "from PyPDF2 import PdfReader\n",
    "import gradio as gr\n",
    "import agent_tools"
   ]
  },
  {
   "cell_type": "markdown",
   "id": "859402fd",
   "metadata": {},
   "source": [
    "## Setups"
   ]
  },
  {
   "cell_type": "code",
   "execution_count": 2,
   "id": "15c91cc7",
   "metadata": {},
   "outputs": [],
   "source": [
    "# OpenAI Setup\n",
    "load_dotenv(override=True)\n",
    "openai = OpenAI()\n",
    "\n",
    "# Pushover Setup\n",
    "pushover_user = os.getenv(\"PUSHOVER_USER\")\n",
    "pushover_token = os.getenv(\"PUSHOVER_TOKEN\")\n",
    "pushover_url = \"https://api.pushover.net/1/messages.json\""
   ]
  },
  {
   "cell_type": "code",
   "execution_count": 3,
   "id": "1f01bd57",
   "metadata": {},
   "outputs": [],
   "source": [
    "# The function will push message in the form of a payload to the phone based on predetermined parameters. \n",
    "def push_message(message):\n",
    "    print(f\"Push: {message}\")\n",
    "    payload = {\"user\": pushover_user, \"token\": pushover_token, \"message\": message}\n",
    "    requests.post(pushover_url, data=payload)"
   ]
  },
  {
   "cell_type": "markdown",
   "id": "49b1a92a",
   "metadata": {},
   "source": [
    "# Tools and Handler"
   ]
  },
  {
   "cell_type": "markdown",
   "id": "0a6a93ed",
   "metadata": {},
   "source": [
    "## Tools\n",
    "* Tool 1: Which will handle collecting the user's information in the case they would like to contact 'Kailas' or the pdf profile user.\n",
    "* Tool 2: Which will handle collecting an questions which was or cannot be answered by the LLM. The tool will send a ping notification to my phone."
   ]
  },
  {
   "cell_type": "code",
   "execution_count": 4,
   "id": "233ad3df",
   "metadata": {},
   "outputs": [],
   "source": [
    "# function if whether the user would like to be in touch with us\n",
    "def record_user_details(email, name=\"name not provided\", notes=\"notes not provided\"):\n",
    "    # if provided with only email was provided\n",
    "    if name == \"name not provided\" and notes == \"notes not provided\":\n",
    "        push_message(f'{email} has shown interest in connecting with you!')\n",
    "    # If the email and name was provided, but not notes. \n",
    "    elif name != \"name not provided\" and notes == \"notes not provided\":\n",
    "        push_message(f'{name} has shown interest in connecting with you!\\nEmail: {email}')\n",
    "    # if the email and notes are provided, but not the name. \n",
    "    elif name == \"name not provided\" and notes != \"notes not provided\":\n",
    "        push_message(f'{email} has shown interest in connecting with you!\\nNotes: {notes}')\n",
    "    else:\n",
    "        push_message(f\"{name} has show interest in connecting with you!\\nEmail: {email}\\nNotes: {notes}\")\n",
    "    return {\"Recorded:\": \"ok\"}"
   ]
  },
  {
   "cell_type": "markdown",
   "id": "f534a457",
   "metadata": {},
   "source": [
    "## Handler"
   ]
  },
  {
   "cell_type": "code",
   "execution_count": 5,
   "id": "97f47b78",
   "metadata": {},
   "outputs": [],
   "source": [
    "def handle_tool_calls(tool_calls):\n",
    "    '''\n",
    "    A function which takes in a list of tool calls, and executes them (sends a notification to phone) based on their prompt.\n",
    "    Furthermore, each tool is already pre-mapped to a function, all this function does it search and execute like a 'dumb' agent. \n",
    "    '''\n",
    "    results = []\n",
    "    for tool_call in tool_calls:\n",
    "        tool_name = tool_call.function.name\n",
    "        arguments = json.loads(tool_call.function.arguments)\n",
    "        print(f\"Tool called: {tool_name}\", flush=True)\n",
    "        tool = globals().get(tool_name)\n",
    "        result = tool(**arguments) if tool else {}\n",
    "        results.append({\"role\": \"tool\",\"content\": json.dumps(result),\"tool_call_id\": tool_call.id})\n",
    "    return results"
   ]
  },
  {
   "cell_type": "markdown",
   "id": "f0ee5969",
   "metadata": {},
   "source": [
    "# Development"
   ]
  },
  {
   "cell_type": "markdown",
   "id": "224bc714",
   "metadata": {},
   "source": [
    "## PDF-Reader"
   ]
  },
  {
   "cell_type": "code",
   "execution_count": 6,
   "id": "fc2ee565",
   "metadata": {},
   "outputs": [],
   "source": [
    "'''\n",
    "MacOS\n",
    "'''\n",
    "linkedin_pdf_path = r\"/Users/goldenmeta/Github/Career-Agent/3_resources/Linkedln.pdf\"\n",
    "linkedin_website_path = r\"/Users/goldenmeta/Github/Career-Agent/3_resources/LinkedlnLink.txt\"\n",
    "resume_pdf_path = r\"/Users/goldenmeta/Github/Career-Agent/3_resources/Resume.pdf\""
   ]
  },
  {
   "cell_type": "code",
   "execution_count": 7,
   "id": "f6f6e247",
   "metadata": {},
   "outputs": [],
   "source": [
    "def pdf_reader(pdf: PdfReader) -> str:\n",
    "    '''\n",
    "    This function will return a string based lining of all the contents in the pdf. \n",
    "    This will typicallly be used for the pdf linkedin and the resume. \n",
    "    '''\n",
    "    pdf_text = \"\"\n",
    "    for page in pdf.pages:\n",
    "        text = page.extract_text()\n",
    "        if text:\n",
    "            pdf_text += text\n",
    "    return pdf_text"
   ]
  },
  {
   "cell_type": "code",
   "execution_count": 8,
   "id": "8ea39a42",
   "metadata": {},
   "outputs": [],
   "source": [
    "# This can be your own name (replace with with Kailas Thonnithodi with your own name)\n",
    "full_name = \"Kailas Thonnithodi\" \n",
    "\n",
    "linkedin_pdf_reader = PdfReader(linkedin_pdf_path)\n",
    "resume_pdf_reader = PdfReader(resume_pdf_path)\n",
    "\n",
    "linkedin = pdf_reader(linkedin_pdf_reader)\n",
    "resume = pdf_reader(resume_pdf_reader)\n",
    "linkedin_link = \"\"\n",
    "\n",
    "# Reads the website link (i could paste the weblink here instead, however for sourcing purposes I will do it in a .txt file)\n",
    "with open(linkedin_website_path, 'r') as link:\n",
    "    linkedin_link = link.readline()"
   ]
  },
  {
   "cell_type": "code",
   "execution_count": 9,
   "id": "6c5be0b5",
   "metadata": {},
   "outputs": [
    {
     "data": {
      "text/plain": [
       "'KAILAS THONNITHODI  \\nPhone:  0435305756 , Email:  kthonnithodi@gmail.com  \\nLinkedIn:  https://www.linkedin.com/in/kailas -thonnithodi/  \\n \\nCAREER PROFILE  \\nFirst  year Masters  of Artificial Intelligence student with a passionate work ethic and desire to \\nconsistently adapt and learn. Partaken in leading various computational and machine learning projects \\nat Deakin University to deliver high -quality results. Looking for a graduate  role as an AI Engineer , \\nMachine Learning Engineer or Data scientist.  \\n \\nEDUCATION  \\n03/2025 –  Masters of Artificial Intelligence  \\nMonash University, Clayton  \\n• Commencement: March  2025  \\n• Expected Completion: October 2027  \\n• Average: High Distinction  \\n \\n03/2021  – 10/2024  Bachelor of Artificial Intelligence  \\nDeakin University, Burwood  \\n• Month Year Completed : Dec  2024  \\n• Average: Distinction  \\n \\n01/2020 – 12/2020  Victorian Certification of Education  \\nMount Waverley Secondary College, Mount Waverley  \\n \\nEXPERIENCE  \\n07/202 4 – 11/2024  Technical Officer  (Intern)  \\nFreelancingHUB, Deakin University , Burwood  \\nClient: Social Engine  \\n• Delivered a viable online ordering solution that effectively supported the \\nclient’s organisational needs, based on their feedback. This success resulted \\nin a request for further development work following the internship.  \\n• Collaborated effectively in a multidisciplinary team to successfully deliver the \\nproject within the set deadlines.  \\n• Completed a comprehensive report for the client, detailing the project \\nbackground, methods, research, recommendations, and key deliverables.  \\n• Demonstrated proficiency in design tools such as Canva and Figma, which \\nwere crucial in creating visually appealing and user -friendly solutions for the \\nclient.  \\n• Presented findings and analysis to an audience of over 100 people, \\nshowcasing strong communication and engagement skills.  \\n \\n07/2024 – 10/202 4 Deep Learning Researcher  Intern  \\nDataBytes  (Project Echo) , Burwood  \\n• Led the development of an advanced unsupervised learning model for audio \\nclassification, driving innovation within the project.  \\n• Conducted feature importance analysis on transfer learning models and \\nevaluated model accuracy using lower -frequency audio data.  \\n• Optimised model performance through hyperparameter tuning, and \\nproactively assumed a senior role within a collaborative technical team.  \\n• Presented technical findings to a non -technical audience, receiving positive \\nfeedback for simplifying complex material and making it easily \\nunderstandable.   \\n \\n10/2023 – 12/2023  Machine Learning Engineer  Intern  \\nDataBytes  (Dolfin) , Burwood  \\n• Developed predictive models for forecasting user balances, improving \\nfinancial management for users.  \\n• Implemented optimisation and testing strategies to enhance model accuracy \\nand performance.  \\n• Collaborated with data engineers and web developers to deliver high -quality \\nsolutions in a team -driven environment.  \\n \\n03/2022 – Current  Food and Beverages Attendant  \\nTEEG Zone Bowling, Clayton South  \\n• Awarded ‘Employee of the Month’ three times for outstanding performance \\nand dedication.  \\n• Excelled in high -pressure, fast -paced environments, managing large volumes \\nof orders while maintaining high standards of customer service.  \\n• Demonstrated resilience and strong multitasking skills, ensuring smooth \\noperations during peak periods and contributing to overall team success.  \\n \\n05/2021 – 03/2022  Delivery Expert  \\nDomino Pizza, Clayton South  \\n• Two -time recipient of the ‘Employee of the Month’ award for outstanding \\nperformance and dedication.  \\n• Analysed and planned optimal delivery routes, ensuring timely deliveries and \\npositive feedback from customers and managers.  \\n• Delivered professional customer service in both phone and face -to-face \\ninteractions, adapting to diverse scenarios and solving problems effectively.  \\n \\nSKILLS  \\nProgramming \\nLanguages  Python , C#, C++, Java, R , SQL . \\n \\nSoftware \\nKnowledge  Visual Studio/Code , GitHub & Git, MATLAB, Microsoft Office Suite (Word, Excel, \\nPowerPoint) , MongoDB, Oracl e, MySQL.  \\n \\nTrading Software  TradingView, Webull, Interactive Brokers, Etoro.  \\n \\nHardware \\nKnowledge  Building Personal Computers , Raspberry PI, Particle Argon, Arduino  \\n \\nCOURSES AND CERTIFICATIONS  \\n03/2024 – 05/2024  Mathematical Foundations of Machine Learning  - uDemy  \\n \\n02/2024 – 05/2024  A Deep Understanding of Deep Learning (with Python)  - uDemy  \\n \\nVOLUNTARY EXPERIENCE  \\n07/2023 - 08/2023  Master of Ceremonies (MC)  \\nSree Narayana Mission Melbourne , Victoria    \\n• Orchestrating and hosting events with professionalism, charisma, and \\nprecision  for a non -profit organ isation.  \\n• Sense of stage presence, by bringing energy and enthusiasm, as well as \\nadapting to various occasions.  \\n \\n05/20 22 – 05/20 22 Red Cross Fundraiser  \\nAustralian Red Cross, Mount Waverley  • Collaborated in a doorknocking fundraising event, successfully raising a total \\nof $1324 to support the needs of underdeveloped countries.  \\n• Demonstrated a strong commitment to raising awareness and expanding \\nknowledge in the areas of persuasion and negotiation.  \\n \\nEXTRA -CURRICULAR ACTIVITIES  \\n03/2021 – 06/2023  Badminton Team Player  \\nDeakin University Badminton Association, Deakin University Burwood  \\n• Participated in a social badminton event, leveraging 3 years of experience in \\nthe sport.  \\n• Cultivated robust social connections with diverse players.  \\n• Established a sense of teamwork and maintained consistent coordination \\nduring matches.  \\n \\nREFERENCES  \\nWill be provide d upon request.  \\n '"
      ]
     },
     "execution_count": 9,
     "metadata": {},
     "output_type": "execute_result"
    }
   ],
   "source": [
    "resume"
   ]
  },
  {
   "cell_type": "markdown",
   "id": "a002aa88",
   "metadata": {},
   "source": [
    "## System Prompt"
   ]
  },
  {
   "cell_type": "code",
   "execution_count": 10,
   "id": "d279b369",
   "metadata": {},
   "outputs": [],
   "source": [
    "system_prompt = f\"You are acting as {full_name}. You are answering questions on {full_name}'s website, \\\n",
    "    particularly questions related to {full_name}'s career, background, skills and experience. \\\n",
    "    Your responsibility is to represent {full_name} for interactions on the website as faithfully as possible. \\\n",
    "    Be professional and engaging, as if talking to a potential client or future employer who came across the website. \\\n",
    "    The following are tools which you can called in certain scenarios. \\\n",
    "    If the user is engaging in discussion, try to steer them towards getting in touch via email; ask for their email and record it using \\'record_user_details\\' tool. \\\n",
    "    I have given you all content regarding my resume and the linkedin profile. \\\n",
    "    Also I would like to emphasis that I want you to call only one tool at a time (if called, basically each time the user finishes their prompt).\"\n",
    "\n",
    "system_prompt += f\"\\n\\n## LinkedIn Profile:\\n{linkedin}\\n\\n\"\n",
    "system_prompt += f\"\\n\\n## LinkedIn Link:\\n{linkedin_link}\\n\\n\"\n",
    "system_prompt += f\"\\n\\n## Resume:\\n{resume}\\n\\n\""
   ]
  },
  {
   "cell_type": "markdown",
   "id": "d8d0e5b9",
   "metadata": {},
   "source": [
    "## Chat function"
   ]
  },
  {
   "cell_type": "markdown",
   "id": "dd8ba038",
   "metadata": {},
   "source": [
    "## Evaluator Model"
   ]
  },
  {
   "cell_type": "code",
   "execution_count": 11,
   "id": "5e272e1b",
   "metadata": {},
   "outputs": [],
   "source": [
    "from pydantic import BaseModel\n",
    "\n",
    "class Evaluation(BaseModel):\n",
    "    is_acceptable: bool\n",
    "    feedback: str"
   ]
  },
  {
   "cell_type": "code",
   "execution_count": 12,
   "id": "4ff68652",
   "metadata": {},
   "outputs": [],
   "source": [
    "# giving the evaluator an initalisatino state; the purpose of the evaluating another model's response. \n",
    "evaluator_system_prompt = f\"You are an evaluator that decides whether a response to a question is acceptable. \\\n",
    "You are provided with a conversation between a User and an Agent. Your task is to decide whether the Agent's latest response is acceptable quality. \\\n",
    "The Agent is playing the role of {full_name} and is representing {full_name} on their website. \\\n",
    "The Agent has been instructed to be professional and engaging, as if talking to a potential client or future employer who came across the website. \\\n",
    "The Agent has been provided with context on {full_name} in the form of their summary and LinkedIn details. Here's the information:\"\n",
    "\n",
    "evaluator_system_prompt += f\"\\n\\n## LinkedIn Profile:\\n{linkedin}\\n\\n\"\n",
    "evaluator_system_prompt += f\"\\n\\n## Resume:\\n{resume}\\n\\n\"\n",
    "evaluator_system_prompt += f\"With this context, please evaluate the latest response, replying with whether the response is acceptable and your feedback. Furthermore give it a score from 1-10.\""
   ]
  },
  {
   "cell_type": "code",
   "execution_count": 13,
   "id": "d08000c7",
   "metadata": {},
   "outputs": [],
   "source": [
    "# Giving the evaluator tool a user prompt. This will check how well the agent was able to give a response based on action. \n",
    "def evaluator_user_prompt(reply, message, history):\n",
    "    user_prompt = f\"Here's the conversation between the User and the Agent: \\n\\n{history}\\n\\n\"\n",
    "    user_prompt += f\"Here's the latest message from the User: \\n\\n{message}\\n\\n\"\n",
    "    user_prompt += f\"Heres's the latest response from the Agent: \\n\\n{reply}\\n\\n\"\n",
    "    user_prompt += f\"Please evaluate the response, replying with whether it is acceptable.\"\n",
    "    return user_prompt"
   ]
  },
  {
   "cell_type": "code",
   "execution_count": 14,
   "id": "dfdfb628",
   "metadata": {},
   "outputs": [],
   "source": [
    "evaluator_model = OpenAI(\n",
    "    api_key=os.getenv(\"GEMINI_API_KEY\"),\n",
    "    base_url=\"https://generativelanguage.googleapis.com/v1beta\"\n",
    ")\n",
    "\n",
    "evaluator_model_name = \"gemini-2.0-flash\"\n",
    "agent_model = \"gpt-4o-mini\""
   ]
  },
  {
   "cell_type": "code",
   "execution_count": 15,
   "id": "4f51f901",
   "metadata": {},
   "outputs": [],
   "source": [
    "# returns an evaluation of the model's response to the orignal user's sentence. \n",
    "def evaluate(reply, message, history) -> Evaluation:\n",
    "    messages = [{\"role\": \"system\",\"content\": evaluator_system_prompt}] + [{\"role\":\"user\",\"content\": evaluator_user_prompt(reply, message, history)}]\n",
    "    response = evaluator_model.chat.completions.parse(model=evaluator_model_name, messages=messages, response_format=Evaluation)\n",
    "    return response.choices[0].message.parsed"
   ]
  },
  {
   "cell_type": "code",
   "execution_count": 16,
   "id": "603482ed",
   "metadata": {},
   "outputs": [],
   "source": [
    "# creating a rerunning features which will create a new instance of the model which will then be used in asking the question again. \n",
    "# furthermore, the question which will be targetted will based on the score; if the score is below 1-5, this will lead to a less purpose solution.\n",
    "# if the score is more than 5, this is considered acceptable, therefore continue, else re run, thinking and come up with a better solution for the user's question.\n",
    "def rerun(reply, message, history, feedback):\n",
    "    updated_sys_prompt = system_prompt + \"\\n\\n## Previous answer rejected.\\nYou just tried reply, however the quality control rejected your answer.\"\n",
    "    updated_sys_prompt += f\"## Your attempted answer:\\n{reply}\\n\"\n",
    "    updated_sys_prompt += f\"## Reason for rejection:\\n{feedback}\\n\\n\"\n",
    "    messages = [{\"role\": \"system\", \"content\": updated_sys_prompt}] + history + [{\"role\": \"user\", \"content\": message}]\n",
    "    response = openai.chat.completions.create(model=agent_model, messages=messages)\n",
    "    return response.choices[0].message.content\n",
    "           "
   ]
  },
  {
   "cell_type": "markdown",
   "id": "00a61539",
   "metadata": {},
   "source": [
    "## Running Model"
   ]
  },
  {
   "cell_type": "code",
   "execution_count": 17,
   "id": "228f3d88",
   "metadata": {},
   "outputs": [],
   "source": [
    "# for the following agent, I will be using the gpt 4o mini model due to it's relative light weight and efficincy when producing a reasonable answer. \n",
    "tools = agent_tools.tools\n",
    "\n",
    "def chat(message, history):\n",
    "    messages = [{\"role\": \"system\", \"content\": system_prompt}] + history + [{\"role\": \"user\", \"content\": message}]\n",
    "    done = False\n",
    "    while not done:\n",
    "        # the response completed during the llms call\n",
    "        response = openai.chat.completions.create(model=agent_model, messages=messages, tools=tools)\n",
    "        reply = response.choices[0].message.content\n",
    "\n",
    "        # Checking the evaluation based on the openai message board.\n",
    "        evaluation = evaluate(reply, message, history)\n",
    "        feedback = evaluation.feedback\n",
    "\n",
    "        # If the message reasoning is not acceptable (which was parsed), then rerun the model to produce an acceptable response. \n",
    "        if evaluation.is_acceptable:\n",
    "            # This is just for developers to see; making sure that the repsonse was actually gone through the evaluation too. \n",
    "            print(f\"Pass evaluation - {feedback}\")\n",
    "        else:\n",
    "            print(f\"Failed evaluation - {feedback}\")\n",
    "            reply = rerun(reply, message, history, feedback)\n",
    "\n",
    "        finish_reason = response.choices[0].finish_reason\n",
    "        # If a tool is call, use the tool handler for committing.\n",
    "        if finish_reason==\"tool_calls\":\n",
    "            message = response.choices[0].message\n",
    "            tool_calls = message.tool_calls\n",
    "            results = handle_tool_calls(tool_calls)\n",
    "            messages.append(message)\n",
    "            messages.extend(results)\n",
    "        else:\n",
    "            done = True\n",
    "\n",
    "    return response.choices[0].message.content"
   ]
  },
  {
   "cell_type": "markdown",
   "id": "a95e42d0",
   "metadata": {},
   "source": [
    "## Tester using Gradio"
   ]
  },
  {
   "cell_type": "code",
   "execution_count": 18,
   "id": "d363cb6d",
   "metadata": {},
   "outputs": [
    {
     "name": "stdout",
     "output_type": "stream",
     "text": [
      "* Running on local URL:  http://127.0.0.1:7860\n",
      "* To create a public link, set `share=True` in `launch()`.\n"
     ]
    },
    {
     "data": {
      "text/html": [
       "<div><iframe src=\"http://127.0.0.1:7860/\" width=\"100%\" height=\"500\" allow=\"autoplay; camera; microphone; clipboard-read; clipboard-write;\" frameborder=\"0\" allowfullscreen></iframe></div>"
      ],
      "text/plain": [
       "<IPython.core.display.HTML object>"
      ]
     },
     "metadata": {},
     "output_type": "display_data"
    },
    {
     "data": {
      "text/plain": []
     },
     "execution_count": 18,
     "metadata": {},
     "output_type": "execute_result"
    }
   ],
   "source": [
    "gr.ChatInterface(chat, type=\"messages\").launch()"
   ]
  },
  {
   "cell_type": "markdown",
   "id": "67fbe303",
   "metadata": {},
   "source": []
  }
 ],
 "metadata": {
  "kernelspec": {
   "display_name": "career-agent",
   "language": "python",
   "name": "python3"
  },
  "language_info": {
   "codemirror_mode": {
    "name": "ipython",
    "version": 3
   },
   "file_extension": ".py",
   "mimetype": "text/x-python",
   "name": "python",
   "nbconvert_exporter": "python",
   "pygments_lexer": "ipython3",
   "version": "3.13.2"
  }
 },
 "nbformat": 4,
 "nbformat_minor": 5
}
